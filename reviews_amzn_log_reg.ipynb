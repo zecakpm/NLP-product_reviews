{
  "nbformat": 4,
  "nbformat_minor": 0,
  "metadata": {
    "colab": {
      "name": "reviews_amzn_log_reg.ipynb",
      "provenance": [],
      "authorship_tag": "ABX9TyNn17vYCCCgvWbWiGgcha++",
      "include_colab_link": true
    },
    "kernelspec": {
      "name": "python3",
      "display_name": "Python 3"
    },
    "language_info": {
      "name": "python"
    }
  },
  "cells": [
    {
      "cell_type": "markdown",
      "metadata": {
        "id": "view-in-github",
        "colab_type": "text"
      },
      "source": [
        "<a href=\"https://colab.research.google.com/github/zecakpm/NLP-product_reviews/blob/main/reviews_amzn_log_reg.ipynb\" target=\"_parent\"><img src=\"https://colab.research.google.com/assets/colab-badge.svg\" alt=\"Open In Colab\"/></a>"
      ]
    },
    {
      "cell_type": "markdown",
      "metadata": {
        "id": "3H8cEw1Qq046"
      },
      "source": [
        "Here my approach:\n",
        "* select product with most reviews\n",
        "* split the data set  (train and test)\n",
        "* data engineering (remove adjectives from text and text into numbers)\n",
        "* train the model (Logistic Regression)\n",
        "* plot SHAP value\n",
        "\n",
        "Conclusions:\n",
        "- The work \"love\" is strongest word by our model to define a rate\n",
        "- Product caracteristis \n",
        "\n",
        "Link for the exploratory notebook.\n",
        "Here you can how the "
      ]
    },
    {
      "cell_type": "markdown",
      "metadata": {
        "id": "ZyKj1jwcZZyn"
      },
      "source": [
        "Reference material\n",
        "\n",
        "https://medium.com/artefact-engineering-and-data-science/customer-reviews-use-nlp-to-gain-insights-from-your-data-4629519b518e"
      ]
    },
    {
      "cell_type": "markdown",
      "metadata": {
        "id": "Yie53z5McL8J"
      },
      "source": [
        "#**Install any necessary library**"
      ]
    },
    {
      "cell_type": "code",
      "metadata": {
        "colab": {
          "base_uri": "https://localhost:8080/"
        },
        "id": "alRpk_bYW3Bt",
        "outputId": "7cd001ad-76d3-4281-9f31-59307aac3c6b"
      },
      "source": [
        "!pip install shap"
      ],
      "execution_count": 3,
      "outputs": [
        {
          "output_type": "stream",
          "text": [
            "Collecting shap\n",
            "\u001b[?25l  Downloading https://files.pythonhosted.org/packages/b9/f4/c5b95cddae15be80f8e58b25edceca105aa83c0b8c86a1edad24a6af80d3/shap-0.39.0.tar.gz (356kB)\n",
            "\r\u001b[K     |█                               | 10kB 15.8MB/s eta 0:00:01\r\u001b[K     |█▉                              | 20kB 20.2MB/s eta 0:00:01\r\u001b[K     |██▊                             | 30kB 16.3MB/s eta 0:00:01\r\u001b[K     |███▊                            | 40kB 13.7MB/s eta 0:00:01\r\u001b[K     |████▋                           | 51kB 8.0MB/s eta 0:00:01\r\u001b[K     |█████▌                          | 61kB 7.7MB/s eta 0:00:01\r\u001b[K     |██████▍                         | 71kB 7.7MB/s eta 0:00:01\r\u001b[K     |███████▍                        | 81kB 8.5MB/s eta 0:00:01\r\u001b[K     |████████▎                       | 92kB 8.9MB/s eta 0:00:01\r\u001b[K     |█████████▏                      | 102kB 7.5MB/s eta 0:00:01\r\u001b[K     |██████████▏                     | 112kB 7.5MB/s eta 0:00:01\r\u001b[K     |███████████                     | 122kB 7.5MB/s eta 0:00:01\r\u001b[K     |████████████                    | 133kB 7.5MB/s eta 0:00:01\r\u001b[K     |████████████▉                   | 143kB 7.5MB/s eta 0:00:01\r\u001b[K     |█████████████▉                  | 153kB 7.5MB/s eta 0:00:01\r\u001b[K     |██████████████▊                 | 163kB 7.5MB/s eta 0:00:01\r\u001b[K     |███████████████▋                | 174kB 7.5MB/s eta 0:00:01\r\u001b[K     |████████████████▋               | 184kB 7.5MB/s eta 0:00:01\r\u001b[K     |█████████████████▌              | 194kB 7.5MB/s eta 0:00:01\r\u001b[K     |██████████████████▍             | 204kB 7.5MB/s eta 0:00:01\r\u001b[K     |███████████████████▎            | 215kB 7.5MB/s eta 0:00:01\r\u001b[K     |████████████████████▎           | 225kB 7.5MB/s eta 0:00:01\r\u001b[K     |█████████████████████▏          | 235kB 7.5MB/s eta 0:00:01\r\u001b[K     |██████████████████████          | 245kB 7.5MB/s eta 0:00:01\r\u001b[K     |███████████████████████         | 256kB 7.5MB/s eta 0:00:01\r\u001b[K     |████████████████████████        | 266kB 7.5MB/s eta 0:00:01\r\u001b[K     |████████████████████████▉       | 276kB 7.5MB/s eta 0:00:01\r\u001b[K     |█████████████████████████▊      | 286kB 7.5MB/s eta 0:00:01\r\u001b[K     |██████████████████████████▊     | 296kB 7.5MB/s eta 0:00:01\r\u001b[K     |███████████████████████████▋    | 307kB 7.5MB/s eta 0:00:01\r\u001b[K     |████████████████████████████▌   | 317kB 7.5MB/s eta 0:00:01\r\u001b[K     |█████████████████████████████▍  | 327kB 7.5MB/s eta 0:00:01\r\u001b[K     |██████████████████████████████▍ | 337kB 7.5MB/s eta 0:00:01\r\u001b[K     |███████████████████████████████▎| 348kB 7.5MB/s eta 0:00:01\r\u001b[K     |████████████████████████████████| 358kB 7.5MB/s \n",
            "\u001b[?25hRequirement already satisfied: numpy in /usr/local/lib/python3.7/dist-packages (from shap) (1.19.5)\n",
            "Requirement already satisfied: scipy in /usr/local/lib/python3.7/dist-packages (from shap) (1.4.1)\n",
            "Requirement already satisfied: scikit-learn in /usr/local/lib/python3.7/dist-packages (from shap) (0.22.2.post1)\n",
            "Requirement already satisfied: pandas in /usr/local/lib/python3.7/dist-packages (from shap) (1.1.5)\n",
            "Requirement already satisfied: tqdm>4.25.0 in /usr/local/lib/python3.7/dist-packages (from shap) (4.41.1)\n",
            "Collecting slicer==0.0.7\n",
            "  Downloading https://files.pythonhosted.org/packages/78/c2/b3f55dfdb8af9812fdb9baf70cacf3b9e82e505b2bd4324d588888b81202/slicer-0.0.7-py3-none-any.whl\n",
            "Requirement already satisfied: numba in /usr/local/lib/python3.7/dist-packages (from shap) (0.51.2)\n",
            "Requirement already satisfied: cloudpickle in /usr/local/lib/python3.7/dist-packages (from shap) (1.3.0)\n",
            "Requirement already satisfied: joblib>=0.11 in /usr/local/lib/python3.7/dist-packages (from scikit-learn->shap) (1.0.1)\n",
            "Requirement already satisfied: pytz>=2017.2 in /usr/local/lib/python3.7/dist-packages (from pandas->shap) (2018.9)\n",
            "Requirement already satisfied: python-dateutil>=2.7.3 in /usr/local/lib/python3.7/dist-packages (from pandas->shap) (2.8.1)\n",
            "Requirement already satisfied: llvmlite<0.35,>=0.34.0.dev0 in /usr/local/lib/python3.7/dist-packages (from numba->shap) (0.34.0)\n",
            "Requirement already satisfied: setuptools in /usr/local/lib/python3.7/dist-packages (from numba->shap) (57.0.0)\n",
            "Requirement already satisfied: six>=1.5 in /usr/local/lib/python3.7/dist-packages (from python-dateutil>=2.7.3->pandas->shap) (1.15.0)\n",
            "Building wheels for collected packages: shap\n",
            "  Building wheel for shap (setup.py) ... \u001b[?25l\u001b[?25hdone\n",
            "  Created wheel for shap: filename=shap-0.39.0-cp37-cp37m-linux_x86_64.whl size=491619 sha256=accc172159637d1c42489d266d12ce91e78b61ace8bb2b0930786f6f59c86d17\n",
            "  Stored in directory: /root/.cache/pip/wheels/15/27/f5/a8ab9da52fd159aae6477b5ede6eaaec69fd130fa0fa59f283\n",
            "Successfully built shap\n",
            "Installing collected packages: slicer, shap\n",
            "Successfully installed shap-0.39.0 slicer-0.0.7\n"
          ],
          "name": "stdout"
        }
      ]
    },
    {
      "cell_type": "markdown",
      "metadata": {
        "id": "eKewes46aAH4"
      },
      "source": [
        "# **Import Libraries**"
      ]
    },
    {
      "cell_type": "code",
      "metadata": {
        "id": "fpGJgKKZWNbI"
      },
      "source": [
        "import numpy as np\n",
        "import pandas as pd\n",
        "import matplotlib.pyplot as plt\n",
        "import sklearn\n",
        "from sklearn.feature_extraction.text import TfidfVectorizer\n",
        "from sklearn.model_selection import train_test_split\n",
        "from sklearn.preprocessing import StandardScaler\n",
        "import shap\n",
        "import seaborn as sns"
      ],
      "execution_count": 4,
      "outputs": []
    },
    {
      "cell_type": "markdown",
      "metadata": {
        "id": "CYvT2xeAaRzw"
      },
      "source": [
        "#**Connecting with Google Drive**"
      ]
    },
    {
      "cell_type": "code",
      "metadata": {
        "colab": {
          "base_uri": "https://localhost:8080/"
        },
        "id": "4w3kW7MlWaNX",
        "outputId": "e60c82fc-194b-4add-9493-9636be789028"
      },
      "source": [
        "from google.colab import drive\n",
        "drive.mount('/content/drive')"
      ],
      "execution_count": 5,
      "outputs": [
        {
          "output_type": "stream",
          "text": [
            "Mounted at /content/drive\n"
          ],
          "name": "stdout"
        }
      ]
    },
    {
      "cell_type": "markdown",
      "metadata": {
        "id": "bONjtwjJae7j"
      },
      "source": [
        "#**Open file from Google Drive**"
      ]
    },
    {
      "cell_type": "code",
      "metadata": {
        "id": "jcFpbWPWWiYx"
      },
      "source": [
        "#open file\n",
        "df_lem = open('/content/drive/My Drive/Colab Notebooks/NLP/eda_amzn/df_lema.csv')"
      ],
      "execution_count": 6,
      "outputs": []
    },
    {
      "cell_type": "markdown",
      "metadata": {
        "id": "DjBO2-Fiafoq"
      },
      "source": [
        "#**Convert file to a DataFrame**"
      ]
    },
    {
      "cell_type": "code",
      "metadata": {
        "id": "uYEoaSzqXaHB"
      },
      "source": [
        "#csv to a dataframe\n",
        "df_lem = pd.read_csv(df_lem)"
      ],
      "execution_count": 7,
      "outputs": []
    },
    {
      "cell_type": "markdown",
      "metadata": {
        "id": "2--V6NZlagIx"
      },
      "source": [
        "#**Selecting product with most reviews**\n",
        " - create 2 copys, this will be helpful to run the model twice later on"
      ]
    },
    {
      "cell_type": "code",
      "metadata": {
        "colab": {
          "base_uri": "https://localhost:8080/"
        },
        "id": "sffl28NXNVTa",
        "outputId": "913e7ea9-e608-43f8-d970-e62ef71c84b7"
      },
      "source": [
        "df_test = df_lem[df_lem['name'] == 'Fire Tablet, 7 Display, Wi-Fi, 8 GB - Includes Special Offers, Magenta'].copy()\n",
        "df_test = df_test.reset_index()\n",
        "df_test['lemmatized'].values.astype('str')"
      ],
      "execution_count": 8,
      "outputs": [
        {
          "output_type": "execute_result",
          "data": {
            "text/plain": [
              "array(['sale people nice knowledgeable come',\n",
              "       'great product service sale man r nice',\n",
              "       'great product service refer friend sale man r good', ...,\n",
              "       'buy birthday gift son like ise android system like figure price ok',\n",
              "       'great kid adult great product game reading',\n",
              "       'kid break tablet want specifically kid amazon fire 7 fit need happy purchase'],\n",
              "      dtype='<U1572')"
            ]
          },
          "metadata": {
            "tags": []
          },
          "execution_count": 8
        }
      ]
    },
    {
      "cell_type": "code",
      "metadata": {
        "colab": {
          "base_uri": "https://localhost:8080/"
        },
        "id": "aGHig-frcLDL",
        "outputId": "917a8921-576f-4280-9a33-b38d47d982c3"
      },
      "source": [
        "df = df_lem[df_lem['name'] == 'Fire Tablet, 7 Display, Wi-Fi, 8 GB - Includes Special Offers, Magenta'].copy()\n",
        "df = df.reset_index()\n",
        "df['lemmatized'].values.astype('str')"
      ],
      "execution_count": 9,
      "outputs": [
        {
          "output_type": "execute_result",
          "data": {
            "text/plain": [
              "array(['sale people nice knowledgeable come',\n",
              "       'great product service sale man r nice',\n",
              "       'great product service refer friend sale man r good', ...,\n",
              "       'buy birthday gift son like ise android system like figure price ok',\n",
              "       'great kid adult great product game reading',\n",
              "       'kid break tablet want specifically kid amazon fire 7 fit need happy purchase'],\n",
              "      dtype='<U1572')"
            ]
          },
          "metadata": {
            "tags": []
          },
          "execution_count": 9
        }
      ]
    },
    {
      "cell_type": "code",
      "metadata": {
        "id": "admzzcswdVxF"
      },
      "source": [
        "df.head()"
      ],
      "execution_count": null,
      "outputs": []
    },
    {
      "cell_type": "markdown",
      "metadata": {
        "id": "KN3N_dbGam2o"
      },
      "source": [
        "#**Create new column with review length + plot distribution**"
      ]
    },
    {
      "cell_type": "code",
      "metadata": {
        "id": "9hy2rCFMVaCI"
      },
      "source": [
        "df['text_len'] = [len(i) for i in df['reviews.text']]"
      ],
      "execution_count": 10,
      "outputs": []
    },
    {
      "cell_type": "code",
      "metadata": {
        "colab": {
          "base_uri": "https://localhost:8080/",
          "height": 385
        },
        "id": "We_4ImBAVjp3",
        "outputId": "33ca9285-6ec4-4cd0-e1e9-cfe7b17582ca"
      },
      "source": [
        "sns.displot(df['text_len'])\n",
        "plt.xlim([0,500]);\n",
        "plt.ylabel('# reviews')\n",
        "plt.xlabel('text length')"
      ],
      "execution_count": 11,
      "outputs": [
        {
          "output_type": "execute_result",
          "data": {
            "text/plain": [
              "Text(0.5, 6.79999999999999, 'text length')"
            ]
          },
          "metadata": {
            "tags": []
          },
          "execution_count": 11
        },
        {
          "output_type": "display_data",
          "data": {
            "image/png": "[encoded data removed]",
            "text/plain": [
              "<Figure size 360x360 with 1 Axes>"
            ]
          },
          "metadata": {
            "tags": [],
            "needs_background": "light"
          }
        }
      ]
    },
    {
      "cell_type": "markdown",
      "metadata": {
        "id": "X-4UGz0olQHP"
      },
      "source": [
        "#**Generating Bigrams**\n",
        "* Bigram is a lean format to understand word meaning within a context (i.e. the book, book a room)"
      ]
    },
    {
      "cell_type": "code",
      "metadata": {
        "id": "w7fwIjOhmtZY"
      },
      "source": [
        "from collections import Counter\n",
        "from itertools import chain"
      ],
      "execution_count": 12,
      "outputs": []
    },
    {
      "cell_type": "code",
      "metadata": {
        "id": "0qVi0htAmE-c"
      },
      "source": [
        "def find_ngrams(column,n):\n",
        "  return list(zip(*[column[i:] for i in range(n)]))\n",
        "\n",
        "df['bigrams'] = df['lemmatized'].map(lambda x: find_ngrams(str(x).split(\" \"),2))\n",
        "df.head()"
      ],
      "execution_count": null,
      "outputs": []
    },
    {
      "cell_type": "code",
      "metadata": {
        "id": "IoOXHSiXnDFf",
        "colab": {
          "base_uri": "https://localhost:8080/"
        },
        "outputId": "0db3f73b-f6cc-49f6-d634-883dddc6eec7"
      },
      "source": [
        "bigrams = df['bigrams'].tolist()\n",
        "bigrams = list(chain(*bigrams))\n",
        "bigrams = [(x.lower(), y.lower()) for x, y in bigrams]\n",
        "\n",
        "bigram_counts = Counter(bigrams)\n",
        "bigram_counts.most_common(20)"
      ],
      "execution_count": 14,
      "outputs": [
        {
          "output_type": "execute_result",
          "data": {
            "text/plain": [
              "[(('easy', 'use'), 901),\n",
              " (('year', 'old'), 626),\n",
              " (('great', 'tablet'), 593),\n",
              " (('kindle', 'fire'), 481),\n",
              " (('great', 'price'), 475),\n",
              " (('play', 'game'), 454),\n",
              " (('read', 'book'), 372),\n",
              " (('work', 'great'), 369),\n",
              " (('tablet', 'great'), 339),\n",
              " (('good', 'tablet'), 336),\n",
              " (('amazon', 'fire'), 303),\n",
              " (('tablet', 'price'), 298),\n",
              " (('buy', 'tablet'), 290),\n",
              " (('black', 'friday'), 288),\n",
              " (('fire', 'tablet'), 276),\n",
              " (('good', 'buy'), 269),\n",
              " (('kid', 'love'), 262),\n",
              " (('love', 'tablet'), 255),\n",
              " (('great', 'product'), 234),\n",
              " (('battery', 'life'), 213)]"
            ]
          },
          "metadata": {
            "tags": []
          },
          "execution_count": 14
        }
      ]
    },
    {
      "cell_type": "markdown",
      "metadata": {
        "id": "m86vfJVGaqfH"
      },
      "source": [
        "#**Selecting prediction and tagert variables**"
      ]
    },
    {
      "cell_type": "code",
      "metadata": {
        "id": "k66XjUh8XaDs"
      },
      "source": [
        "X = df['lemmatized'].values.astype('U')\n",
        "y = df['reviews.rating']"
      ],
      "execution_count": 15,
      "outputs": []
    },
    {
      "cell_type": "code",
      "metadata": {
        "colab": {
          "base_uri": "https://localhost:8080/"
        },
        "id": "-tVRsnvtePH0",
        "outputId": "7463e30d-7178-4445-de9b-a40288967328"
      },
      "source": [
        "print(\"X type ===>\", type(X))\n",
        "print(\"y type ===>\", type(y))\n",
        "print(\"X size ===>\", X.shape)\n",
        "print(\"y size ===>\", y.shape)"
      ],
      "execution_count": 16,
      "outputs": [
        {
          "output_type": "stream",
          "text": [
            "X type ===> <class 'numpy.ndarray'>\n",
            "y type ===> <class 'pandas.core.series.Series'>\n",
            "X size ===> (10962,)\n",
            "y size ===> (10962,)\n"
          ],
          "name": "stdout"
        }
      ]
    },
    {
      "cell_type": "markdown",
      "metadata": {
        "id": "wz4lLrVdar6B"
      },
      "source": [
        "#**Spliting and vectorizing DataFrame**"
      ]
    },
    {
      "cell_type": "code",
      "metadata": {
        "id": "H80JR3vmXaAC",
        "colab": {
          "base_uri": "https://localhost:8080/"
        },
        "outputId": "ad1834c6-a316-4647-f648-5982736aab78"
      },
      "source": [
        "X_train, X_test, y_train, y_test = train_test_split(X, y, test_size=0.2, random_state=7)\n",
        "\n",
        "vectorizer = TfidfVectorizer(min_df=10)\n",
        "X_train = vectorizer.fit_transform(X_train)\n",
        "X_test = vectorizer.transform(X_test)\n",
        "\n",
        "print(\"X_train size ===>\", X_train.shape)\n",
        "print(\"y_train size ===>\", y_train.shape)\n",
        "print(\"X_test size ===>\", X_test.shape)\n",
        "print(\"y_test size ===>\", y_test.shape)\n"
      ],
      "execution_count": 17,
      "outputs": [
        {
          "output_type": "stream",
          "text": [
            "X_train size ===> (8769, 929)\n",
            "y_train size ===> (8769,)\n",
            "X_test size ===> (2193, 929)\n",
            "y_test size ===> (2193,)\n"
          ],
          "name": "stdout"
        }
      ]
    },
    {
      "cell_type": "markdown",
      "metadata": {
        "id": "XMRWiKjqatLC"
      },
      "source": [
        "#**Training Logistic Regression Model**"
      ]
    },
    {
      "cell_type": "code",
      "metadata": {
        "id": "kAm6K0XAXZ1s"
      },
      "source": [
        "%%time\n",
        "model = sklearn.linear_model.LogisticRegression()\n",
        "model.fit(X_train, y_train)"
      ],
      "execution_count": null,
      "outputs": []
    },
    {
      "cell_type": "markdown",
      "metadata": {
        "id": "RSSDqI7PauDx"
      },
      "source": [
        "#**Calculating and plotting SHAP value**"
      ]
    },
    {
      "cell_type": "code",
      "metadata": {
        "id": "1LPcvCGBXZXb"
      },
      "source": [
        "explainer = shap.LinearExplainer(model, X_train)\n",
        "shap_values = explainer.shap_values(X_test)\n",
        "X_test_array = X_test.toarray() # we need to pass a dense version for the plotting functions"
      ],
      "execution_count": 19,
      "outputs": []
    },
    {
      "cell_type": "code",
      "metadata": {
        "colab": {
          "base_uri": "https://localhost:8080/",
          "height": 581
        },
        "id": "9B8iS4m4XZUK",
        "outputId": "9b4d061f-0f97-4e39-9daa-a594d9fb1ed0"
      },
      "source": [
        "shap.summary_plot(shap_values, X_test_array, feature_names=vectorizer.get_feature_names())"
      ],
      "execution_count": 20,
      "outputs": [
        {
          "output_type": "display_data",
          "data": {
            "image/png": "[encoded data removed]",
            "text/plain": [
              "<Figure size 576x684 with 1 Axes>"
            ]
          },
          "metadata": {
            "tags": [],
            "needs_background": "light"
          }
        }
      ]
    },
    {
      "cell_type": "markdown",
      "metadata": {
        "id": "rdfHNi0teqK3"
      },
      "source": [
        "#**Searching for product features**\n",
        "\n",
        "* import nltk libraries\n",
        "* create functions\n",
        "* run functions on prediction column\n",
        "* repeat steps from the first section"
      ]
    },
    {
      "cell_type": "code",
      "metadata": {
        "colab": {
          "base_uri": "https://localhost:8080/"
        },
        "id": "DmuJTGiopAM6",
        "outputId": "4afdb61c-230a-4d8e-9a94-3396bbfcc08b"
      },
      "source": [
        "import nltk\n",
        "from nltk import pos_tag, word_tokenize\n",
        "nltk.download('punkt')\n",
        "nltk.download('averaged_perceptron_tagger')"
      ],
      "execution_count": 21,
      "outputs": [
        {
          "output_type": "stream",
          "text": [
            "[nltk_data] Downloading package punkt to /root/nltk_data...\n",
            "[nltk_data]   Unzipping tokenizers/punkt.zip.\n",
            "[nltk_data] Downloading package averaged_perceptron_tagger to\n",
            "[nltk_data]     /root/nltk_data...\n",
            "[nltk_data]   Unzipping taggers/averaged_perceptron_tagger.zip.\n"
          ],
          "name": "stdout"
        },
        {
          "output_type": "execute_result",
          "data": {
            "text/plain": [
              "True"
            ]
          },
          "metadata": {
            "tags": []
          },
          "execution_count": 21
        }
      ]
    },
    {
      "cell_type": "markdown",
      "metadata": {
        "id": "Xa8bLXT8e1ip"
      },
      "source": [
        "#**Functions** \n",
        "* list of non adjectives\n",
        "* convert list to string\n",
        "* Apply functions to columns "
      ]
    },
    {
      "cell_type": "code",
      "metadata": {
        "id": "8bx4Qc4KWiQk"
      },
      "source": [
        "def col_tokenization(sent):\n",
        "    list = []\n",
        "    for word, pos in pos_tag(word_tokenize(sent)):\n",
        "      if not pos.startswith('JJ'):\n",
        "        list.append(word)\n",
        "    return list"
      ],
      "execution_count": 22,
      "outputs": []
    },
    {
      "cell_type": "code",
      "metadata": {
        "id": "FODQpjgmObuI"
      },
      "source": [
        "def listToSring(list):\n",
        "  str1 = \" \"\n",
        "  return (str1.join(list))"
      ],
      "execution_count": 23,
      "outputs": []
    },
    {
      "cell_type": "code",
      "metadata": {
        "id": "d4oAwzHHWiKy",
        "colab": {
          "base_uri": "https://localhost:8080/"
        },
        "outputId": "d41d97f2-fc72-41f8-a102-4aa11d680230"
      },
      "source": [
        "%%time\n",
        "df_test['sent_tk']=df_test['lemmatized'].apply(lambda x: col_tokenization(str(x)))"
      ],
      "execution_count": 24,
      "outputs": [
        {
          "output_type": "stream",
          "text": [
            "CPU times: user 11.2 s, sys: 165 ms, total: 11.4 s\n",
            "Wall time: 11.4 s\n"
          ],
          "name": "stdout"
        }
      ]
    },
    {
      "cell_type": "code",
      "metadata": {
        "id": "YsKxp-HMP-Xn"
      },
      "source": [
        "df_test['to_string']=df_test['sent_tk'].apply(lambda x: listToSring(x))"
      ],
      "execution_count": 25,
      "outputs": []
    },
    {
      "cell_type": "code",
      "metadata": {
        "id": "rcYMZlJIRYbz"
      },
      "source": [
        "df_test.head()"
      ],
      "execution_count": null,
      "outputs": []
    },
    {
      "cell_type": "markdown",
      "metadata": {
        "id": "Y0Zuar8efRzV"
      },
      "source": [
        "#**Selecting prediction and tagert variables**"
      ]
    },
    {
      "cell_type": "code",
      "metadata": {
        "id": "tJ0f1OmcN1zH"
      },
      "source": [
        "X1 = df_test['to_string'].values.astype('U')\n",
        "y1 = df_test['reviews.rating']"
      ],
      "execution_count": 27,
      "outputs": []
    },
    {
      "cell_type": "code",
      "metadata": {
        "colab": {
          "base_uri": "https://localhost:8080/"
        },
        "id": "f6vlZifCRJ1j",
        "outputId": "b674d6fc-5cfb-4f22-e0f6-90b4bed2a335"
      },
      "source": [
        "print(\"X1 type ===>\", type(X))\n",
        "print(\"y1 type ===>\", type(y))\n",
        "print(\"X1 size ===>\", X.shape)\n",
        "print(\"y1 size ===>\", y.shape)"
      ],
      "execution_count": 28,
      "outputs": [
        {
          "output_type": "stream",
          "text": [
            "X1 type ===> <class 'numpy.ndarray'>\n",
            "y1 type ===> <class 'pandas.core.series.Series'>\n",
            "X1 size ===> (10962,)\n",
            "y1 size ===> (10962,)\n"
          ],
          "name": "stdout"
        }
      ]
    },
    {
      "cell_type": "markdown",
      "metadata": {
        "id": "AEeYxX48fanL"
      },
      "source": [
        "#**Spliting and vectorizing DataFrame**"
      ]
    },
    {
      "cell_type": "code",
      "metadata": {
        "id": "0McyMaEON1vL",
        "colab": {
          "base_uri": "https://localhost:8080/"
        },
        "outputId": "fba22877-20cc-4030-e996-3ac7c919a99b"
      },
      "source": [
        "X1_train, X1_test, y1_train, y1_test = train_test_split(X1, y1, test_size=0.2, random_state=7)\n",
        "\n",
        "vectorizer = TfidfVectorizer(min_df=10)\n",
        "X1_train = vectorizer.fit_transform(X1_train)\n",
        "X1_test = vectorizer.transform(X1_test)\n",
        "\n",
        "print(\"X1_train size ===>\", X1_train.shape)\n",
        "print(\"y1_train size ===>\", y1_train.shape)\n",
        "print(\"X1_test size ===>\", X1_test.shape)\n",
        "print(\"y1_test size ===>\", y1_test.shape)\n"
      ],
      "execution_count": 29,
      "outputs": [
        {
          "output_type": "stream",
          "text": [
            "X1_train size ===> (8769, 741)\n",
            "y1_train size ===> (8769,)\n",
            "X1_test size ===> (2193, 741)\n",
            "y1_test size ===> (2193,)\n"
          ],
          "name": "stdout"
        }
      ]
    },
    {
      "cell_type": "markdown",
      "metadata": {
        "id": "TL9UGXHejDRb"
      },
      "source": [
        "#**Training Logistic Regression Model**"
      ]
    },
    {
      "cell_type": "code",
      "metadata": {
        "id": "5HxknvZRN1qq"
      },
      "source": [
        "%%time\n",
        "model1 = sklearn.linear_model.LogisticRegression()\n",
        "model1.fit(X1_train, y1_train)"
      ],
      "execution_count": null,
      "outputs": []
    },
    {
      "cell_type": "markdown",
      "metadata": {
        "id": "C8TOBHrnjVDe"
      },
      "source": [
        "#**Calculating and plotting SHAP value**"
      ]
    },
    {
      "cell_type": "code",
      "metadata": {
        "id": "BooFSfklN1ju"
      },
      "source": [
        "explainer1 = shap.LinearExplainer(model1, X1_train)\n",
        "shap_values1 = explainer1.shap_values(X1_test)\n",
        "X_test_array1 = X1_test.toarray() # we need to pass a dense version for the plotting functions"
      ],
      "execution_count": 31,
      "outputs": []
    },
    {
      "cell_type": "code",
      "metadata": {
        "colab": {
          "base_uri": "https://localhost:8080/",
          "height": 581
        },
        "id": "bJG6NNgqSJ7f",
        "outputId": "de7e2023-627a-405d-c7ad-3cadf89c5804"
      },
      "source": [
        "shap.summary_plot(shap_values1, X_test_array1, feature_names=vectorizer.get_feature_names())"
      ],
      "execution_count": 32,
      "outputs": [
        {
          "output_type": "display_data",
          "data": {
            "image/png": "[encoded data removed]",
            "text/plain": [
              "<Figure size 576x684 with 1 Axes>"
            ]
          },
          "metadata": {
            "tags": [],
            "needs_background": "light"
          }
        }
      ]
    }
  ]
}